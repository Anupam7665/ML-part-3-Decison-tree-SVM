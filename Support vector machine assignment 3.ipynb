{
 "cells": [
  {
   "cell_type": "markdown",
   "id": "c1ced0ab-5d50-450a-ab74-e6290178dd4a",
   "metadata": {},
   "source": [
    "### Q1. In order to predict house price based on several characteristics, such as location, square footage, number of bedrooms, etc., you are developing an SVM regression model. Which regression metric in this situation would be the best to employ?"
   ]
  },
  {
   "cell_type": "markdown",
   "id": "26a726f4-2088-4877-bc8c-475f9cfcf182",
   "metadata": {},
   "source": [
    "The RMSE metric is useful in scenarios where the prediction errors need to be penalized more heavily than the MAE or MSE. In the case of predicting house prices, it is important to minimize prediction errors as much as possible, and RMSE is the most appropriate metric to measure the average magnitude of the errors.\n",
    "\n",
    "Additionally, the RMSE metric has the added benefit of being easily interpretable, as it is expressed in the same units as the target variable (in this case, the house price). Therefore, it is easier to understand the magnitude of the error in the context of the problem domain."
   ]
  },
  {
   "cell_type": "markdown",
   "id": "2e0f8cc8-e569-4fc2-a3ae-a621be9bb103",
   "metadata": {},
   "source": [
    "### Q2. You have built an SVM regression model and are trying to decide between using MSE or R-squared as your evaluation metric. Which metric would be more appropriate if your goal is to predict the actual price of a house as accurately as possible?"
   ]
  },
  {
   "cell_type": "markdown",
   "id": "97928652-c7c4-4c81-a202-c951da1cec5d",
   "metadata": {},
   "source": [
    "**MSE** is a common evaluation metric for regression tasks, and it measures the average squared difference between the predicted and actual values. In the context of predicting house prices, minimizing the MSE means that your model will be able to predict the actual price of a house more accurately on average.\n",
    "\n",
    "**R-squared** measures the proportion of the variance in the target variable that is explained by the model. While R-squared is a useful metric to evaluate the overall goodness of fit of the model, it may not directly correspond to the accuracy of individual predictions. In other words, a high R-squared value does not necessarily mean that the model is making accurate predictions.\n",
    "\n",
    "Therefore, if your goal is to predict the actual price of a house as accurately as possible, then MSE would be the more appropriate evaluation metric to use with your SVM regression model."
   ]
  },
  {
   "cell_type": "markdown",
   "id": "037a26a0-5aa7-476e-be88-481f5cd5af6c",
   "metadata": {},
   "source": [
    "### Q3. You have a dataset with a significant number of outliers and are trying to select an appropriate regression metric to use with your SVM model. Which metric would be the most appropriate in this scenario?"
   ]
  },
  {
   "cell_type": "markdown",
   "id": "16cf3f5b-0a7b-45ca-aaba-cb0f6b8e4dc8",
   "metadata": {},
   "source": [
    "In the given scenario, the most appropriate regression metric to use would be the Mean Absolute Error (MAE). MAE is less sensitive to outliers because it measures the average absolute difference between the predicted and actual values, rather than the average squared difference. This makes it more robust to outliers, as the absolute value of the difference between an outlier and the actual value is the same as the absolute value of the difference between a non-outlier and the actual value."
   ]
  },
  {
   "cell_type": "markdown",
   "id": "942237bc-ffb9-484f-9fce-59bad393be88",
   "metadata": {},
   "source": [
    "### Q4. You have built an SVM regression model using a polynomial kernel and are trying to select the best metric to evaluate its performance. You have calculated both MSE and RMSE and found that both values are very close. Which metric should you choose to use in this case?"
   ]
  },
  {
   "cell_type": "markdown",
   "id": "fb205643-a8cd-4dfe-bae9-eeaca5e5ccca",
   "metadata": {},
   "source": [
    "If we have calculated both MSE and RMSE and found that both values are very close, it is generally safe to use either metric to evaluate the performance of your SVM regression model. However, if we want to choose only one metric, it is generally recommended to use RMSE, as it is more interpretable than MSE. RMSE is expressed in the same units as the target variable, which makes it easier to interpret the magnitude of the error in the context of the problem domain. Therefore, in this case, RMSE would be the better metric to choose to evaluate the performance of your SVM regression model."
   ]
  },
  {
   "cell_type": "markdown",
   "id": "2c3eddb6-27e3-4e5f-8995-f639dc5fea73",
   "metadata": {},
   "source": [
    "### Q5. You are comparing the performance of different SVM regression models using different kernels (linear,\n",
    "polynomial, and RBF) and are trying to select the best evaluation metric. Which metric would be most\n",
    "appropriate if your goal is to measure how well the model explains the variance in the target variable?"
   ]
  },
  {
   "cell_type": "code",
   "execution_count": null,
   "id": "29f10d3a-5af5-4939-a82e-fd4c640fdb43",
   "metadata": {},
   "outputs": [],
   "source": []
  },
  {
   "cell_type": "code",
   "execution_count": null,
   "id": "c867a872-9bed-4a3b-9cc9-7b405429a3b0",
   "metadata": {},
   "outputs": [],
   "source": []
  },
  {
   "cell_type": "code",
   "execution_count": null,
   "id": "a43cc3ac-ac02-4251-9ba9-a1a4daa7de65",
   "metadata": {},
   "outputs": [],
   "source": []
  },
  {
   "cell_type": "code",
   "execution_count": null,
   "id": "dd05dc49-2334-40e5-8c37-3d74f61d2943",
   "metadata": {},
   "outputs": [],
   "source": []
  },
  {
   "cell_type": "code",
   "execution_count": null,
   "id": "efaaa580-b821-4983-ac7b-27eb13ac7fd2",
   "metadata": {},
   "outputs": [],
   "source": []
  }
 ],
 "metadata": {
  "kernelspec": {
   "display_name": "Python 3 (ipykernel)",
   "language": "python",
   "name": "python3"
  },
  "language_info": {
   "codemirror_mode": {
    "name": "ipython",
    "version": 3
   },
   "file_extension": ".py",
   "mimetype": "text/x-python",
   "name": "python",
   "nbconvert_exporter": "python",
   "pygments_lexer": "ipython3",
   "version": "3.10.8"
  }
 },
 "nbformat": 4,
 "nbformat_minor": 5
}
